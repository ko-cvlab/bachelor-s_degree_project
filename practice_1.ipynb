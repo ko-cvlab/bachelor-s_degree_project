{
 "cells": [
  {
   "cell_type": "code",
   "execution_count": 2,
   "id": "00edc1ae",
   "metadata": {},
   "outputs": [
    {
     "name": "stdout",
     "output_type": "stream",
     "text": [
      "Requirement already satisfied: sklearn in /usr/local/lib/python3.8/dist-packages (0.0)\n",
      "Requirement already satisfied: scikit-learn in /usr/local/lib/python3.8/dist-packages (from sklearn) (1.0.1)\n",
      "Requirement already satisfied: scipy>=1.1.0 in /usr/local/lib/python3.8/dist-packages (from scikit-learn->sklearn) (1.6.2)\n",
      "Requirement already satisfied: joblib>=0.11 in /usr/local/lib/python3.8/dist-packages (from scikit-learn->sklearn) (1.1.0)\n",
      "Requirement already satisfied: numpy>=1.14.6 in /usr/local/lib/python3.8/dist-packages (from scikit-learn->sklearn) (1.20.2)\n",
      "Requirement already satisfied: threadpoolctl>=2.0.0 in /usr/local/lib/python3.8/dist-packages (from scikit-learn->sklearn) (3.0.0)\n",
      "Note: you may need to restart the kernel to use updated packages.\n"
     ]
    }
   ],
   "source": [
    "pip install sklearn"
   ]
  },
  {
   "cell_type": "code",
   "execution_count": 1,
   "id": "a76f2ef0",
   "metadata": {},
   "outputs": [],
   "source": [
    "import numpy as np\n",
    "import cv2 as cv\n",
    "import matplotlib.pyplot as plt\n",
    "import math\n",
    "import dlib\n",
    "import sys\n",
    "from scipy.spatial import distance\n",
    "from facenet_pytorch import MTCNN, InceptionResnetV1\n",
    "from PIL import Image, ImageDraw\n",
    "\n",
    "from pathlib import Path\n",
    "import cv2\n",
    "from PIL import Image\n",
    "from torch.utils.data import DataLoader, Dataset\n",
    "from torchvision import transforms\n",
    "\n",
    "from sklearn.metrics import roc_curve\n",
    "import matplotlib.pyplot as plt\n",
    "import pickle"
   ]
  },
  {
   "cell_type": "code",
   "execution_count": 3,
   "id": "75f0d404",
   "metadata": {},
   "outputs": [],
   "source": [
    "Bright_40 = [16,17,18,63,64,65,245,246,247,307,308,309,454,455,552,553,554,555,556] #アノテーションデータ\n",
    "Bright_60 = [55,56,57,58,119,120,292,293,294,295,343,350,351,578,579]\n",
    "Dim_40 = [17,43,44,113,114,219,220,272,273,274,371,412,413,533,534,571,572]\n",
    "Dim_60 = [17,18,54,87,221,296,297,321,322,347,348,431,432,470,471,506,507,559,560]"
   ]
  },
  {
   "cell_type": "code",
   "execution_count": 9,
   "id": "b87cbccc",
   "metadata": {},
   "outputs": [
    {
     "data": {
      "text/plain": [
       "15"
      ]
     },
     "execution_count": 9,
     "metadata": {},
     "output_type": "execute_result"
    }
   ],
   "source": [
    "len(Bright_60)"
   ]
  },
  {
   "cell_type": "code",
   "execution_count": 17,
   "id": "669ed428",
   "metadata": {},
   "outputs": [],
   "source": [
    "y_true = []\n",
    "for i in range(601):\n",
    "    if(i in Dim_60):\n",
    "        y_true.append(1)\n",
    "    else:\n",
    "        y_true.append(0)"
   ]
  },
  {
   "cell_type": "code",
   "execution_count": 21,
   "id": "4c7dcf7d",
   "metadata": {},
   "outputs": [
    {
     "name": "stdout",
     "output_type": "stream",
     "text": [
      "1\n",
      "0\n"
     ]
    }
   ],
   "source": [
    "print(y_true[54])\n",
    "print(y_true[1])"
   ]
  },
  {
   "cell_type": "code",
   "execution_count": 22,
   "id": "c983f7f5",
   "metadata": {},
   "outputs": [
    {
     "data": {
      "text/plain": [
       "601"
      ]
     },
     "execution_count": 22,
     "metadata": {},
     "output_type": "execute_result"
    }
   ],
   "source": [
    "len(y_true)"
   ]
  },
  {
   "cell_type": "code",
   "execution_count": 23,
   "id": "c8a447cb",
   "metadata": {},
   "outputs": [],
   "source": [
    "#リスト保存\n",
    "import pickle\n",
    "#f = open(\"/work/Particle_Filter/Experiment/Bright_40cm/Annotations/annotations.txt\", 'wb')\n",
    "#f = open(\"/work/Particle_Filter/Experiment/Bright_60cm/Annotations/annotations.txt\", 'wb')\n",
    "#f = open(\"/work/Particle_Filter/Experiment/Dim_40cm/Annotations/annotations.txt\", 'wb')\n",
    "#f = open(\"/work/Particle_Filter/Experiment/Dim_60cm/Annotations/annotations.txt\", 'wb')\n",
    "list_row = y_true\n",
    "pickle.dump(list_row, f)"
   ]
  },
  {
   "cell_type": "code",
   "execution_count": null,
   "id": "b9c2d4ee",
   "metadata": {},
   "outputs": [],
   "source": []
  }
 ],
 "metadata": {
  "kernelspec": {
   "display_name": "Python 3 (ipykernel)",
   "language": "python",
   "name": "python3"
  },
  "language_info": {
   "codemirror_mode": {
    "name": "ipython",
    "version": 3
   },
   "file_extension": ".py",
   "mimetype": "text/x-python",
   "name": "python",
   "nbconvert_exporter": "python",
   "pygments_lexer": "ipython3",
   "version": "3.8.10"
  }
 },
 "nbformat": 4,
 "nbformat_minor": 5
}
