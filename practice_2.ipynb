{
 "cells": [
  {
   "cell_type": "code",
   "execution_count": 1,
   "id": "e61cdeb9",
   "metadata": {},
   "outputs": [],
   "source": [
    "import numpy as np\n",
    "import cv2 as cv\n",
    "import matplotlib.pyplot as plt\n",
    "import pickle\n",
    "from sklearn.metrics import precision_score\n",
    "from sklearn.metrics import recall_score\n",
    "from sklearn.metrics import f1_score\n",
    "from sklearn.metrics import roc_curve"
   ]
  },
  {
   "cell_type": "code",
   "execution_count": 2,
   "id": "fbc1196f",
   "metadata": {},
   "outputs": [],
   "source": [
    "list_1 = [\"/Bright_40cm\" , \"/Bright_60cm\" , \"/Dim_40cm\" , \"/Dim_60cm\"]\n",
    "list_2 = [\"/Otsu\"  , \"/Variable\"  , \"/External\"  , \"/Snake\" ]"
   ]
  },
  {
   "cell_type": "code",
   "execution_count": 6,
   "id": "6cb9ac59",
   "metadata": {},
   "outputs": [
    {
     "name": "stdout",
     "output_type": "stream",
     "text": [
      "\n",
      "/Otsu\n",
      "/Bright_40cm\n",
      "Precission:0.636 , Recall:0.368 , f_score_2:0.467\n",
      "/Bright_60cm\n",
      "Precission:0.222 , Recall:0.133 , f_score_2:0.167\n",
      "/Dim_40cm\n",
      "Precission:0.5 , Recall:0.235 , f_score_2:0.32\n",
      "/Dim_60cm\n",
      "Precission:0.442 , Recall:1.0 , f_score_2:0.613\n",
      "precission_average:0.4501115809255344\n",
      "recall_average:0.4342621259029928\n",
      "f_average:0.3915591397849462\n",
      "\n",
      "/Variable\n",
      "/Bright_40cm\n",
      "Precission:0.895 , Recall:0.895 , f_score_2:0.895\n",
      "/Bright_60cm\n",
      "Precission:0.889 , Recall:0.533 , f_score_2:0.667\n",
      "/Dim_40cm\n",
      "Precission:1.0 , Recall:0.882 , f_score_2:0.938\n",
      "/Dim_60cm\n",
      "Precission:0.5 , Recall:1.0 , f_score_2:0.667\n",
      "precission_average:0.820906432748538\n",
      "recall_average:0.8276057791537668\n",
      "f_average:0.7913925438596491\n",
      "\n",
      "/External\n",
      "/Bright_40cm\n",
      "Precission:0.696 , Recall:0.842 , f_score_2:0.762\n",
      "/Bright_60cm\n",
      "Precission:0.556 , Recall:1.0 , f_score_2:0.714\n",
      "/Dim_40cm\n",
      "Precission:0.63 , Recall:1.0 , f_score_2:0.773\n",
      "/Dim_60cm\n",
      "Precission:0.091 , Recall:1.0 , f_score_2:0.167\n",
      "precission_average:0.4930458782360956\n",
      "recall_average:0.9605263157894737\n",
      "f_average:0.6040796574937544\n",
      "\n",
      "/Snake\n",
      "/Bright_40cm\n",
      "Precission:0.6 , Recall:0.158 , f_score_2:0.25\n",
      "/Bright_60cm\n",
      "Precission:0.0 , Recall:0.0 , f_score_2:0.0\n",
      "/Dim_40cm\n",
      "Precission:0.6 , Recall:0.176 , f_score_2:0.273\n",
      "/Dim_60cm\n",
      "Precission:0.421 , Recall:0.421 , f_score_2:0.421\n",
      "precission_average:0.4052631578947368\n",
      "recall_average:0.18885448916408668\n",
      "f_average:0.235944976076555\n"
     ]
    },
    {
     "name": "stderr",
     "output_type": "stream",
     "text": [
      "/usr/local/lib/python3.8/dist-packages/sklearn/metrics/_classification.py:1308: UndefinedMetricWarning: Precision is ill-defined and being set to 0.0 due to no predicted samples. Use `zero_division` parameter to control this behavior.\n",
      "  _warn_prf(average, modifier, msg_start, len(result))\n",
      "/tmp/ipykernel_10423/3880274090.py:29: RuntimeWarning: invalid value encountered in double_scalars\n",
      "  f_score_1 = 2*precision*recall/(precision+recall)\n"
     ]
    }
   ],
   "source": [
    "f_ave = 0\n",
    "for method in list_2:   #手法リスト\n",
    "    pre_ave = 0\n",
    "    re_ave = 0\n",
    "    f_ave = 0\n",
    "    print()\n",
    "    print(method)\n",
    "    for video in list_1:   #動画リスト\n",
    "        print(video)\n",
    "        #アノテーションデータ呼び出し\n",
    "        f = open(\"/work/Particle_Filter/Experiment\" + video + \"/Annotations/annotations.txt\",\"rb\")\n",
    "        y_true =np.array(pickle.load(f))\n",
    "        #予測データ呼び出し\n",
    "        f = open(\"/work/Particle_Filter/Experiment\" + video + method + \"/Ratio\" + method +\".txt\",\"rb\")\n",
    "        ratio = np.array(pickle.load(f))\n",
    "        ratio = np.array(ratio)\n",
    "        if method == \"/Variable\" or method == \"/External\":\n",
    "            y_score = np.where(ratio<0.5,1,0)   #Variable , External\n",
    "        elif method == \"/Otsu\" :\n",
    "            y_score = np.where(ratio<0.65,1,0)   #Otsu\n",
    "        elif method == \"/Snake\" :\n",
    "            y_score = np.where(ratio<0.7,1,0)   #Snake\n",
    "            \n",
    "        #F値算出\n",
    "        precision = precision_score(y_true,y_score)\n",
    "        pre_ave += precision\n",
    "        recall = recall_score(y_true,y_score)\n",
    "        re_ave += recall\n",
    "        f_score_1 = 2*precision*recall/(precision+recall)\n",
    "        f_score_2 = f1_score(y_true,y_score)\n",
    "        f_ave += f_score_2\n",
    "#         print(f\"手法{method} , 動画{video}\")\n",
    "        print(f\"Precission:{round(precision,3)} , Recall:{round(recall,3)} , f_score_2:{round(f_score_2,3)}\")\n",
    "    print(f\"precission_average:{pre_ave/4}\")\n",
    "    print(f\"recall_average:{re_ave/4}\")\n",
    "    print(f\"f_average:{f_ave/4}\")"
   ]
  },
  {
   "cell_type": "code",
   "execution_count": null,
   "id": "f72af663",
   "metadata": {},
   "outputs": [],
   "source": []
  }
 ],
 "metadata": {
  "kernelspec": {
   "display_name": "Python 3 (ipykernel)",
   "language": "python",
   "name": "python3"
  },
  "language_info": {
   "codemirror_mode": {
    "name": "ipython",
    "version": 3
   },
   "file_extension": ".py",
   "mimetype": "text/x-python",
   "name": "python",
   "nbconvert_exporter": "python",
   "pygments_lexer": "ipython3",
   "version": "3.8.10"
  }
 },
 "nbformat": 4,
 "nbformat_minor": 5
}
