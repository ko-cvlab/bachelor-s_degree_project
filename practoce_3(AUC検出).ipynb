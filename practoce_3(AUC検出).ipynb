{
 "cells": [
  {
   "cell_type": "code",
   "execution_count": 1,
   "id": "6a161dbf",
   "metadata": {},
   "outputs": [],
   "source": [
    "import numpy as np\n",
    "import cv2 as cv\n",
    "import matplotlib.pyplot as plt\n",
    "import pickle\n",
    "from sklearn.metrics import precision_score\n",
    "from sklearn.metrics import recall_score\n",
    "from sklearn.metrics import f1_score\n",
    "from sklearn.metrics import roc_curve"
   ]
  },
  {
   "cell_type": "code",
   "execution_count": 2,
   "id": "2f37c0e2",
   "metadata": {},
   "outputs": [],
   "source": [
    "video = \"/Bright_40cm\"\n",
    "video = \"/Bright_60cm\"\n",
    "video = \"/Dim_40cm\"\n",
    "video = \"/Dim_60cm\"\n",
    "\n",
    "method = \"/Otsu\" \n",
    "method = \"/Variable\" \n",
    "method = \"/External\" \n",
    "method = \"/Snake\" "
   ]
  },
  {
   "cell_type": "code",
   "execution_count": 3,
   "id": "88eaeaac",
   "metadata": {},
   "outputs": [
    {
     "name": "stdout",
     "output_type": "stream",
     "text": [
      "Precission:0.421 , Recall:0.421 , f_score_2:0.421\n"
     ]
    }
   ],
   "source": [
    "#アノテーションデータ呼び出し\n",
    "f = open(\"/work/Particle_Filter/Experiment\" + video + \"/Annotations/annotations.txt\",\"rb\")\n",
    "y_true =np.array(pickle.load(f))\n",
    "#予測データ呼び出し\n",
    "f = open(\"/work/Particle_Filter/Experiment\" + video + method + \"/Ratio\" + method +\".txt\",\"rb\")\n",
    "ratio = np.array(pickle.load(f))\n",
    "ratio = np.array(ratio)\n",
    "if method == \"/Variable\" or method == \"/External\":\n",
    "    y_score = np.where(ratio<0.5,1,0)   #Variable , External\n",
    "elif method == \"/Otsu\" :\n",
    "    y_score = np.where(ratio<0.65,1,0)   #Otsu\n",
    "elif method == \"/Snake\" :\n",
    "    y_score = np.where(ratio<0.7,1,0)   #Snake\n",
    "#F値算出\n",
    "precision = precision_score(y_true,y_score)\n",
    "recall = recall_score(y_true,y_score)\n",
    "f_score_1 = 2*precision*recall/(precision+recall)\n",
    "f_score_2 = f1_score(y_true,y_score)\n",
    "#         print(f\"手法{method} , 動画{video}\")\n",
    "print(f\"Precission:{round(precision,3)} , Recall:{round(recall,3)} , f_score_2:{round(f_score_2,3)}\")"
   ]
  },
  {
   "cell_type": "code",
   "execution_count": 4,
   "id": "40065677",
   "metadata": {},
   "outputs": [
    {
     "name": "stdout",
     "output_type": "stream",
     "text": [
      "<class 'tuple'>\n",
      "3\n"
     ]
    }
   ],
   "source": [
    "#AUC算出\n",
    "y_score = ratio.tolist()\n",
    "roc = roc_curve(y_true, y_score)\n",
    "print(type(roc))\n",
    "print(len(roc))"
   ]
  },
  {
   "cell_type": "code",
   "execution_count": 5,
   "id": "ea0cacbb",
   "metadata": {},
   "outputs": [
    {
     "name": "stdout",
     "output_type": "stream",
     "text": [
      "[0.         0.         0.00343643 0.00343643 0.00515464 0.00515464\n",
      " 0.00687285 0.00687285 0.00859107 0.01202749 0.01546392 0.02061856\n",
      " 0.02405498 0.02920962 0.0395189  0.04123711 0.04639175 0.04982818\n",
      " 0.0532646  0.0652921  0.06872852 0.0790378  0.08591065 0.08934708\n",
      " 0.10309278 0.10824742 0.12542955 0.12714777 0.13058419 0.15463918\n",
      " 0.15979381 0.16323024 0.16666667 0.1838488  0.19072165 0.21649485\n",
      " 0.2233677  0.24570447 0.24914089 0.25085911 0.26460481 0.28522337\n",
      " 0.28694158 0.29553265 0.3024055  0.30412371 0.34020619 0.34879725\n",
      " 0.35910653 0.38316151 0.38659794 0.395189   0.40034364 0.41408935\n",
      " 0.41580756 0.41924399 0.4347079  0.43814433 0.47594502 0.48281787\n",
      " 0.49656357 0.51202749 0.51546392 0.52749141 0.57560137 0.5790378\n",
      " 0.59621993 0.59793814 0.60309278 0.60652921 0.60824742 0.61168385\n",
      " 0.64604811 0.64776632 0.65463918 0.65635739 0.6838488  0.68728522\n",
      " 0.69415808 0.69931271 0.70103093 0.75945017 0.78350515 0.80068729\n",
      " 0.81958763 0.82646048 0.83161512 0.83333333 0.84879725 0.85051546\n",
      " 0.85738832 0.86082474 0.86941581 0.87457045 0.89003436 0.89347079\n",
      " 0.90034364 0.91752577 0.91924399 0.92783505 0.94501718 0.94501718\n",
      " 0.95189003 0.9604811  0.96391753 0.96563574 0.96907216 0.97079038\n",
      " 0.9742268  0.99484536 0.99484536 0.99656357 1.         1.        ]\n",
      "[0.         0.05263158 0.05263158 0.21052632 0.21052632 0.31578947\n",
      " 0.31578947 0.52631579 0.52631579 0.52631579 0.52631579 0.52631579\n",
      " 0.52631579 0.52631579 0.52631579 0.52631579 0.52631579 0.52631579\n",
      " 0.52631579 0.52631579 0.52631579 0.52631579 0.52631579 0.52631579\n",
      " 0.52631579 0.52631579 0.52631579 0.52631579 0.52631579 0.52631579\n",
      " 0.52631579 0.52631579 0.52631579 0.52631579 0.52631579 0.52631579\n",
      " 0.52631579 0.52631579 0.52631579 0.52631579 0.52631579 0.52631579\n",
      " 0.52631579 0.52631579 0.52631579 0.52631579 0.52631579 0.52631579\n",
      " 0.52631579 0.52631579 0.52631579 0.52631579 0.52631579 0.52631579\n",
      " 0.52631579 0.52631579 0.52631579 0.52631579 0.52631579 0.52631579\n",
      " 0.52631579 0.52631579 0.52631579 0.52631579 0.52631579 0.52631579\n",
      " 0.52631579 0.52631579 0.52631579 0.52631579 0.52631579 0.52631579\n",
      " 0.52631579 0.52631579 0.52631579 0.52631579 0.52631579 0.52631579\n",
      " 0.52631579 0.52631579 0.52631579 0.52631579 0.52631579 0.52631579\n",
      " 0.52631579 0.52631579 0.52631579 0.52631579 0.52631579 0.52631579\n",
      " 0.52631579 0.52631579 0.52631579 0.52631579 0.52631579 0.52631579\n",
      " 0.52631579 0.52631579 0.52631579 0.52631579 0.52631579 0.57894737\n",
      " 0.57894737 0.57894737 0.57894737 0.57894737 0.57894737 0.57894737\n",
      " 0.57894737 0.57894737 0.68421053 0.68421053 0.68421053 1.        ]\n",
      "[2.939 1.939 1.905 1.562 1.392 1.386 1.332 0.984 0.975 0.963 0.94  0.938\n",
      " 0.935 0.927 0.925 0.923 0.916 0.914 0.911 0.909 0.906 0.903 0.901 0.899\n",
      " 0.897 0.892 0.89  0.889 0.888 0.886 0.884 0.88  0.879 0.878 0.873 0.871\n",
      " 0.869 0.866 0.865 0.864 0.86  0.859 0.858 0.857 0.855 0.854 0.853 0.851\n",
      " 0.848 0.846 0.845 0.844 0.842 0.841 0.84  0.839 0.838 0.836 0.833 0.83\n",
      " 0.829 0.828 0.827 0.826 0.823 0.822 0.821 0.82  0.819 0.818 0.817 0.816\n",
      " 0.815 0.814 0.813 0.812 0.811 0.81  0.809 0.808 0.806 0.803 0.798 0.795\n",
      " 0.794 0.789 0.787 0.786 0.785 0.784 0.782 0.78  0.778 0.777 0.775 0.771\n",
      " 0.77  0.768 0.766 0.761 0.759 0.756 0.752 0.75  0.748 0.74  0.733 0.731\n",
      " 0.725 0.653 0.637 0.629 0.605 0.531]\n"
     ]
    }
   ],
   "source": [
    "fpr, tpr, thresholds = roc_curve(y_true, y_score)\n",
    "print(fpr)\n",
    "print(tpr)\n",
    "print(thresholds)"
   ]
  },
  {
   "cell_type": "code",
   "execution_count": 6,
   "id": "00a9e8fc",
   "metadata": {},
   "outputs": [
    {
     "data": {
      "image/png": "[encoded data removed]",
      "text/plain": [
       "<Figure size 432x288 with 1 Axes>"
      ]
     },
     "metadata": {
      "needs_background": "light"
     },
     "output_type": "display_data"
    }
   ],
   "source": [
    "plt.plot(fpr, tpr, marker='o')\n",
    "plt.xlabel('FPR: False positive rate')\n",
    "plt.ylabel('TPR: True positive rate')\n",
    "plt.grid()"
   ]
  },
  {
   "cell_type": "code",
   "execution_count": null,
   "id": "85503299",
   "metadata": {},
   "outputs": [],
   "source": []
  }
 ],
 "metadata": {
  "kernelspec": {
   "display_name": "Python 3 (ipykernel)",
   "language": "python",
   "name": "python3"
  },
  "language_info": {
   "codemirror_mode": {
    "name": "ipython",
    "version": 3
   },
   "file_extension": ".py",
   "mimetype": "text/x-python",
   "name": "python",
   "nbconvert_exporter": "python",
   "pygments_lexer": "ipython3",
   "version": "3.8.10"
  }
 },
 "nbformat": 4,
 "nbformat_minor": 5
}
